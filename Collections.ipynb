{
 "cells": [
  {
   "cell_type": "markdown",
   "metadata": {},
   "source": [
    "# Collections"
   ]
  },
  {
   "cell_type": "markdown",
   "metadata": {},
   "source": [
    "#### A Python's Standard Library"
   ]
  },
  {
   "cell_type": "markdown",
   "metadata": {},
   "source": [
    "This module implements specialized container datatypes providing alternatives to Python’s general purpose built-in containers, dict, list, set, and tuple."
   ]
  },
  {
   "cell_type": "markdown",
   "metadata": {},
   "source": [
    "This is just a small presentation about the collections library."
   ]
  },
  {
   "cell_type": "markdown",
   "metadata": {},
   "source": [
    "I'll make a fast overview of some of the Collections'content (mainly namedTuple, defaultDict and deque) without going into all methods available for each class."
   ]
  },
  {
   "cell_type": "markdown",
   "metadata": {},
   "source": [
    "## Namedtuple"
   ]
  },
  {
   "cell_type": "markdown",
   "metadata": {},
   "source": [
    "\"factory function for creating tuple subclasses with named fields\""
   ]
  },
  {
   "cell_type": "code",
   "execution_count": null,
   "metadata": {},
   "outputs": [],
   "source": [
    "from collections import namedtuple"
   ]
  },
  {
   "cell_type": "markdown",
   "metadata": {},
   "source": [
    "###### Fishes exemple"
   ]
  },
  {
   "cell_type": "code",
   "execution_count": null,
   "metadata": {},
   "outputs": [],
   "source": [
    "fish1 = ('Sammy', 'Guppy', 'Freshwater tank 01')\n",
    "fish2 = ('Lummy', 'Neon', 'Freshwater tank 01')\n",
    "fish3 = ('Nemo', 'Clownfish', 'Marine tank 01')\n",
    "fish4 = ('Sharky', 'Shark', 'Marine tank 01')\n",
    "fish5 = ('Fishy', 'Discus', 'Tropical tank 02')"
   ]
  },
  {
   "cell_type": "markdown",
   "metadata": {},
   "source": [
    "All the tuples have the same 'fields'. What if I want all the names? Or species? Or emplacement?"
   ]
  },
  {
   "cell_type": "code",
   "execution_count": null,
   "metadata": {},
   "outputs": [],
   "source": [
    "Fish = namedtuple(\"Fish\", [\"name\", \"species\", \"tank\"])\n",
    "\n",
    "fish1 = Fish('Sammy', 'Guppy', 'Freshwater tank 01')\n",
    "\n",
    "# Readable __repr__ with a name=value style\n",
    "print(fish1)"
   ]
  },
  {
   "cell_type": "code",
   "execution_count": null,
   "metadata": {},
   "outputs": [],
   "source": [
    "# Call by name\n",
    "print(fish1.species)\n",
    "\n",
    "# Call by index (like regular tuple)\n",
    "print(fish1[1])"
   ]
  },
  {
   "cell_type": "markdown",
   "metadata": {},
   "source": [
    "Using namedtuple from the collections module makes your program more readable while maintaining the important properties of a tuple (that they’re immutable and ordered)."
   ]
  },
  {
   "cell_type": "markdown",
   "metadata": {},
   "source": [
    "###### Point exemple"
   ]
  },
  {
   "cell_type": "code",
   "execution_count": null,
   "metadata": {},
   "outputs": [],
   "source": [
    "Point = namedtuple('Point', ['x', 'y'])\n",
    "\n",
    "# Assign by index\n",
    "p1 = Point(11, 22)\n",
    "\n",
    "# Assign by name\n",
    "p2 = Point(y=11, x=22)\n",
    "\n",
    "# Readable __repr__ with a name=value style\n",
    "print(p1)\n",
    "print(p2)"
   ]
  },
  {
   "cell_type": "code",
   "execution_count": null,
   "metadata": {},
   "outputs": [],
   "source": [
    "# Call by name\n",
    "print(p1.x + p1.y)\n",
    "\n",
    "# Call by index\n",
    "print(p1[0] + p1[1])"
   ]
  },
  {
   "cell_type": "code",
   "execution_count": null,
   "metadata": {},
   "outputs": [],
   "source": [
    "# Unpack like a regular tuple\n",
    "x, y = p1\n",
    "print(x)"
   ]
  },
  {
   "cell_type": "markdown",
   "metadata": {},
   "source": [
    "###### Sample of Extra Methods from namedtuple"
   ]
  },
  {
   "cell_type": "markdown",
   "metadata": {},
   "source": [
    "In addition, the namedtuple factory function adds several extra methods to instances."
   ]
  },
  {
   "cell_type": "code",
   "execution_count": null,
   "metadata": {},
   "outputs": [],
   "source": [
    "# Get a dict from the tuple\n",
    "dictFish = fish1._asdict()\n",
    "print(dictFish)\n",
    "\n",
    "# Before python 3.1, return an ordinary dict.\n",
    "# Between 3.1 and 3.7, return an ordered dict.\n",
    "# Since 3.8, return an ordinary dict.\n",
    "\n",
    "type(dictFish)"
   ]
  },
  {
   "cell_type": "code",
   "execution_count": null,
   "metadata": {},
   "outputs": [],
   "source": [
    "# Get a namedtuple from a list\n",
    "t = [11, 22]\n",
    "print(Point._make(t))"
   ]
  },
  {
   "cell_type": "code",
   "execution_count": null,
   "metadata": {},
   "outputs": [],
   "source": [
    "# Get a tuple of strings listing the field names.\n",
    "print(p1._fields)\n",
    "\n",
    "Color = namedtuple('Color', 'red green blue')\n",
    "Detail = namedtuple('Detail', p1._fields + Color._fields)\n",
    "detail1 = Detail(42, 42, 255, 0, 0)\n",
    "\n",
    "# print(detail1)"
   ]
  },
  {
   "cell_type": "code",
   "execution_count": null,
   "metadata": {},
   "outputs": [],
   "source": [
    "# Put some default values\n",
    "Infos = namedtuple('Infos', ['color', 'sex'])\n",
    "Detail = namedtuple('Detail', fish1._fields + Infos._fields, defaults=['Male'])\n",
    "print(Detail._field_defaults)\n",
    "detail1 = Detail('Sammy', 'Guppy', 'Freshwater tank 01', 'Red')\n",
    "print(detail1)"
   ]
  },
  {
   "cell_type": "markdown",
   "metadata": {},
   "source": [
    "## Deque"
   ]
  },
  {
   "cell_type": "markdown",
   "metadata": {},
   "source": [
    "\"list-like container with fast appends and pops on either end\""
   ]
  },
  {
   "cell_type": "markdown",
   "metadata": {},
   "source": [
    "Deque = Double Ended Queue"
   ]
  },
  {
   "cell_type": "markdown",
   "metadata": {},
   "source": [
    "FIFO : First In First Out"
   ]
  },
  {
   "cell_type": "markdown",
   "metadata": {},
   "source": [
    "LIFO : Last In First Out"
   ]
  },
  {
   "cell_type": "markdown",
   "metadata": {},
   "source": [
    "Stack : Insertion and deletion happens on same end (LIFO)"
   ]
  },
  {
   "cell_type": "markdown",
   "metadata": {},
   "source": [
    "Queue : Insertion and deletion happens on different ends (FIFO)"
   ]
  },
  {
   "cell_type": "markdown",
   "metadata": {},
   "source": [
    "###### Stack example with a list"
   ]
  },
  {
   "cell_type": "code",
   "execution_count": null,
   "metadata": {},
   "outputs": [],
   "source": [
    "stack = []\n",
    "\n",
    "# Adding element in the stack\n",
    "stack.append('a')\n",
    "stack.append('b')\n",
    "stack.append('c')\n",
    " \n",
    "print('Initial stack')\n",
    "print(stack)\n",
    " \n",
    "# Removing element from stack in LIFO order\n",
    "print('\\nElements poped from stack:')\n",
    "print(stack.pop())\n",
    "print(stack.pop())\n",
    "print(stack.pop())\n",
    " \n",
    "print('\\nStack after elements are poped:')\n",
    "print(stack)"
   ]
  },
  {
   "cell_type": "markdown",
   "metadata": {},
   "source": [
    "###### Queue exemple with a list"
   ]
  },
  {
   "cell_type": "code",
   "execution_count": null,
   "metadata": {},
   "outputs": [],
   "source": [
    "queue = [] \n",
    "  \n",
    "# Adding elements to the queue \n",
    "queue.append('a') \n",
    "queue.append('b') \n",
    "queue.append('c') \n",
    "  \n",
    "print(\"Initial queue\") \n",
    "print(queue) \n",
    "  \n",
    "# Removing elements from the queue in FIFO order\n",
    "print(\"\\nElements dequeued from queue\") \n",
    "print(queue.pop(0)) \n",
    "print(queue.pop(0)) \n",
    "print(queue.pop(0))\n",
    "  \n",
    "print(\"\\nQueue after removing elements\") \n",
    "print(queue) "
   ]
  },
  {
   "cell_type": "markdown",
   "metadata": {},
   "source": [
    "###### Using a list for Deque conclusion"
   ]
  },
  {
   "cell_type": "markdown",
   "metadata": {},
   "source": [
    "The .append and .pop mothods make a list usable as a stack or queue. But inserting and removing from the left of a list is costly because the entire list must be shifted."
   ]
  },
  {
   "cell_type": "markdown",
   "metadata": {},
   "source": [
    "The class collections.deque is a thread-safe double-ended queue designed for fast inserting and removing from both ends. It is also the way to go if you need to keep a list of 'last seen items' or something like that because a deque can be bounded ( = created with a maximum lenght), and then, when it's full, it discards items from the opposite end when you append new ones."
   ]
  },
  {
   "cell_type": "code",
   "execution_count": null,
   "metadata": {},
   "outputs": [],
   "source": [
    "from collections import deque"
   ]
  },
  {
   "cell_type": "markdown",
   "metadata": {},
   "source": [
    "###### Stack exemple with deque"
   ]
  },
  {
   "cell_type": "code",
   "execution_count": null,
   "metadata": {},
   "outputs": [],
   "source": [
    "stack = deque()\n",
    " \n",
    "# Adding element in the stack\n",
    "stack.append('a')\n",
    "stack.append('b')\n",
    "stack.append('c')\n",
    " \n",
    "print('Initial stack:')\n",
    "print(stack)\n",
    " \n",
    "# Removing element from stack in LIFO order\n",
    "print('\\nElements poped from stack:')\n",
    "print(stack.pop())\n",
    "print(stack.pop())\n",
    "print(stack.pop())\n",
    " \n",
    "print('\\nStack after elements are poped:')\n",
    "print(stack)"
   ]
  },
  {
   "cell_type": "markdown",
   "metadata": {},
   "source": [
    "###### Queue exemple with deque"
   ]
  },
  {
   "cell_type": "code",
   "execution_count": null,
   "metadata": {},
   "outputs": [],
   "source": [
    "q = deque()\n",
    "  \n",
    "# Adding elements to a queue \n",
    "q.append('a') \n",
    "q.append('b') \n",
    "q.append('c') \n",
    "  \n",
    "print(\"Initial queue\") \n",
    "print(q) \n",
    "  \n",
    "# Removing elements from a queue in FIFO order\n",
    "print(\"\\nElements dequeued from the queue\") \n",
    "print(q.popleft()) \n",
    "print(q.popleft())  \n",
    "print(q.popleft())  \n",
    "  \n",
    "print(\"\\nQueue after removing elements\") \n",
    "print(q) "
   ]
  },
  {
   "cell_type": "markdown",
   "metadata": {},
   "source": [
    "###### Some methods of a deque"
   ]
  },
  {
   "cell_type": "code",
   "execution_count": null,
   "metadata": {},
   "outputs": [],
   "source": [
    "# Create a Deque with a max length\n",
    "dq = deque(range(10), maxlen=10)\n",
    "dq"
   ]
  },
  {
   "cell_type": "code",
   "execution_count": null,
   "metadata": {},
   "outputs": [],
   "source": [
    "# Move to the right\n",
    "dq.rotate(3)\n",
    "dq"
   ]
  },
  {
   "cell_type": "code",
   "execution_count": null,
   "metadata": {},
   "outputs": [],
   "source": [
    "# Move to the left\n",
    "dq.rotate(-4)\n",
    "dq"
   ]
  },
  {
   "cell_type": "code",
   "execution_count": null,
   "metadata": {},
   "outputs": [],
   "source": [
    "# Add left\n",
    "dq.appendleft(-1)\n",
    "dq"
   ]
  },
  {
   "cell_type": "code",
   "execution_count": null,
   "metadata": {},
   "outputs": [],
   "source": [
    "# Adding 3 items to the right\n",
    "dq.extend([11, 22, 33])\n",
    "dq"
   ]
  },
  {
   "cell_type": "code",
   "execution_count": null,
   "metadata": {},
   "outputs": [],
   "source": [
    "# Adding 4 items to the left (note the appending order)\n",
    "dq.extendleft([10, 20, 30, 40])\n",
    "dq"
   ]
  },
  {
   "cell_type": "markdown",
   "metadata": {},
   "source": [
    "###### Deque conclsion"
   ]
  },
  {
   "cell_type": "markdown",
   "metadata": {},
   "source": [
    "IMPORTANT : deques are optimized for appending and popping from the end, but there is a hidden cost : removing items from the middle of a deque is not as fast."
   ]
  },
  {
   "cell_type": "markdown",
   "metadata": {},
   "source": [
    "## Counter"
   ]
  },
  {
   "cell_type": "markdown",
   "metadata": {},
   "source": [
    "\"dict subclass for counting hashable objects\""
   ]
  },
  {
   "cell_type": "markdown",
   "metadata": {},
   "source": [
    "A mapping that holds an integer for each key. Updating an existing key adds to its count."
   ]
  },
  {
   "cell_type": "code",
   "execution_count": null,
   "metadata": {},
   "outputs": [],
   "source": [
    "from collections import Counter"
   ]
  },
  {
   "cell_type": "markdown",
   "metadata": {},
   "source": [
    "###### A bit of magic"
   ]
  },
  {
   "cell_type": "code",
   "execution_count": null,
   "metadata": {},
   "outputs": [],
   "source": [
    "magic_count = Counter('abracadabra')\n",
    "magic_count"
   ]
  },
  {
   "cell_type": "code",
   "execution_count": null,
   "metadata": {},
   "outputs": [],
   "source": [
    "magic_count.update('aaaaazzz')\n",
    "magic_count"
   ]
  },
  {
   "cell_type": "code",
   "execution_count": null,
   "metadata": {},
   "outputs": [],
   "source": [
    "magic_count.most_common(2)"
   ]
  },
  {
   "cell_type": "markdown",
   "metadata": {},
   "source": [
    "###### The count of Zen"
   ]
  },
  {
   "cell_type": "code",
   "execution_count": null,
   "metadata": {},
   "outputs": [],
   "source": [
    "zen = ['Beautiful is better than ugly.',\n",
    "'Explicit is better than implicit.',\n",
    "'Simple is better than complex.',\n",
    "'Complex is better than complicated.',\n",
    "'Flat is better than nested.',\n",
    "'Sparse is better than dense.',\n",
    "'Readability counts.',\n",
    "'Special cases aren\\'t special enough to break the rules.',\n",
    "'Although practicality beats purity.',\n",
    "'Errors should never pass silently.',\n",
    "'Unless explicitly silenced.',\n",
    "'In the face of ambiguity, refuse the temptation to guess.',\n",
    "'There should be one-- and preferably only one --obvious way to do it.',\n",
    "'Although that way may not be obvious at first unless you\\'re Dutch.',\n",
    "'Now is better than never.',\n",
    "'Although never is often better than *right* now.',\n",
    "'If the implementation is hard to explain, it\\'s a bad idea.',\n",
    "'If the implementation is easy to explain, it may be a good idea.',\n",
    "'Namespaces are one honking great idea -- let\\'s do more of those!']"
   ]
  },
  {
   "cell_type": "code",
   "execution_count": null,
   "metadata": {},
   "outputs": [],
   "source": [
    "zen_count = Counter('Zen of Python'.split())\n",
    "for sentence in zen:\n",
    "    zen_count.update(sentence.split())\n",
    "zen_count.most_common(5)"
   ]
  },
  {
   "cell_type": "markdown",
   "metadata": {},
   "source": [
    "## Defaultdict"
   ]
  },
  {
   "cell_type": "markdown",
   "metadata": {},
   "source": [
    "\"dict subclass that calls a factory function to supply missing values\""
   ]
  },
  {
   "cell_type": "code",
   "execution_count": null,
   "metadata": {},
   "outputs": [],
   "source": [
    "from collections import defaultdict"
   ]
  },
  {
   "cell_type": "markdown",
   "metadata": {},
   "source": [
    "###### Basic exemple"
   ]
  },
  {
   "cell_type": "code",
   "execution_count": null,
   "metadata": {},
   "outputs": [],
   "source": [
    "my_regular_dict = {}\n",
    "\n",
    "my_regular_dict[\"missing\"]"
   ]
  },
  {
   "cell_type": "code",
   "execution_count": null,
   "metadata": {},
   "outputs": [],
   "source": [
    "my_defaultdict = defaultdict(set)\n",
    "\n",
    "print(my_defaultdict[\"missing\"])"
   ]
  },
  {
   "cell_type": "code",
   "execution_count": null,
   "metadata": {},
   "outputs": [],
   "source": [
    "my_defaultdict = defaultdict(list)\n",
    "\n",
    "print(my_defaultdict[\"missing\"])"
   ]
  },
  {
   "cell_type": "markdown",
   "metadata": {},
   "source": [
    "###### Zen of Python : dict of words and their locations"
   ]
  },
  {
   "cell_type": "code",
   "execution_count": null,
   "metadata": {},
   "outputs": [],
   "source": [
    "import re"
   ]
  },
  {
   "cell_type": "code",
   "execution_count": null,
   "metadata": {},
   "outputs": [],
   "source": [
    "zen = ['Beautiful is better than ugly.',\n",
    "'Explicit is better than implicit.',\n",
    "'Simple is better than complex.',\n",
    "'Complex is better than complicated.',\n",
    "'Flat is better than nested.',\n",
    "'Sparse is better than dense.',\n",
    "'Readability counts.',\n",
    "'Special cases aren\\'t special enough to break the rules.',\n",
    "'Although practicality beats purity.',\n",
    "'Errors should never pass silently.',\n",
    "'Unless explicitly silenced.',\n",
    "'In the face of ambiguity, refuse the temptation to guess.',\n",
    "'There should be one-- and preferably only one --obvious way to do it.',\n",
    "'Although that way may not be obvious at first unless you\\'re Dutch.',\n",
    "'Now is better than never.',\n",
    "'Although never is often better than *right* now.',\n",
    "'If the implementation is hard to explain, it\\'s a bad idea.',\n",
    "'If the implementation is easy to explain, it may be a good idea.',\n",
    "'Namespaces are one honking great idea -- let\\'s do more of those!']"
   ]
  },
  {
   "cell_type": "code",
   "execution_count": null,
   "metadata": {},
   "outputs": [],
   "source": [
    "WORD_RE = re.compile(r'\\w+')\n",
    "\n",
    "index = {}\n",
    "\n",
    "for line_no, char in enumerate(zen):\n",
    "    for match in WORD_RE.finditer(char):\n",
    "        word = match.group()\n",
    "        column_no = match.start()\n",
    "        location = (line_no, column_no)\n",
    "        # Here comes the KeyError\n",
    "        index[word].append(location)\n",
    "            \n",
    "# print in alphabetical order\n",
    "for word in sorted(index, key=str.upper):\n",
    "    print(word, index[word])"
   ]
  },
  {
   "cell_type": "code",
   "execution_count": null,
   "metadata": {},
   "outputs": [],
   "source": [
    "WORD_RE = re.compile(r'\\w+')\n",
    "\n",
    "index = {}\n",
    "\n",
    "for line_no, char in enumerate(zen):\n",
    "    for match in WORD_RE.finditer(char):\n",
    "        word = match.group()\n",
    "        column_no = match.start()\n",
    "        location = (line_no, column_no)\n",
    "        # here is the fix\n",
    "        if word not in index:        # whatever the word is : first search for the key in the list\n",
    "            index[word]=[]           # may be the seconde lookup for dict[key] if word is not yet a key\n",
    "        index[word].append(location) # and second (or third) one\n",
    "            \n",
    "# print in alphabetical order\n",
    "for word in sorted(index, key=str.upper):\n",
    "    print(word, index[word])"
   ]
  },
  {
   "cell_type": "code",
   "execution_count": null,
   "metadata": {},
   "outputs": [],
   "source": [
    "WORD_RE = re.compile(r'\\w+')\n",
    "\n",
    "# If the key doesn't exist, create the key, and put the value as an empty list.\n",
    "index = defaultdict(list)\n",
    "\n",
    "for line_no, line in enumerate(zen):\n",
    "    for match in WORD_RE.finditer(line):\n",
    "        word = match.group()\n",
    "        column_no = match.start()\n",
    "        location = (line_no, column_no)\n",
    "        # Interesting code here :\n",
    "        index[word].append(location)      # single and only search for the dict[key]\n",
    "            \n",
    "# print in alphabetical order\n",
    "for word in sorted(index, key=str.upper):\n",
    "    print(word, index[word])"
   ]
  },
  {
   "cell_type": "markdown",
   "metadata": {},
   "source": [
    "###### Fish Inventory"
   ]
  },
  {
   "cell_type": "code",
   "execution_count": null,
   "metadata": {},
   "outputs": [],
   "source": [
    "fish_inventory = [('Sammy', 'Guppy', 'Freshwater tank 01'), \n",
    "                  ('Lummy', 'Neon', 'Freshwater tank 01'), \n",
    "                  ('Nemo', 'Clownfish', 'Marine tank 01'), \n",
    "                  ('Sharky', 'Shark', 'Marine tank 01'), \n",
    "                  ('Fishy', 'Discus', 'Tropical tank 02')\n",
    "                 ]"
   ]
  },
  {
   "cell_type": "code",
   "execution_count": null,
   "metadata": {},
   "outputs": [],
   "source": [
    "fish_names_by_tank = defaultdict(list)\n",
    "for name, species, tank in fish_inventory:\n",
    "    fish_names_by_tank[tank].append(name)\n",
    "\n",
    "print(fish_names_by_tank)"
   ]
  }
 ],
 "metadata": {
  "kernelspec": {
   "display_name": "Python 3.8.6 64-bit",
   "language": "python",
   "name": "python38664bit87d7fd7a3a8941cabf468d1dd0e87421"
  },
  "language_info": {
   "codemirror_mode": {
    "name": "ipython",
    "version": 3
   },
   "file_extension": ".py",
   "mimetype": "text/x-python",
   "name": "python",
   "nbconvert_exporter": "python",
   "pygments_lexer": "ipython3",
   "version": "3.8.6"
  }
 },
 "nbformat": 4,
 "nbformat_minor": 4
}
