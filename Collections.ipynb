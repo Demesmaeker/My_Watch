{
 "cells": [
  {
   "cell_type": "markdown",
   "metadata": {},
   "source": [
    "# Collections"
   ]
  },
  {
   "cell_type": "markdown",
   "metadata": {},
   "source": [
    "#### A Python's Standard Library"
   ]
  },
  {
   "cell_type": "markdown",
   "metadata": {},
   "source": [
    "This module implements specialized container datatypes providing alternatives to Python’s general purpose built-in containers, dict, list, set, and tuple."
   ]
  },
  {
   "cell_type": "markdown",
   "metadata": {},
   "source": [
    "This is just a small presentation about the collections library."
   ]
  },
  {
   "cell_type": "markdown",
   "metadata": {},
   "source": [
    "I'll make a fast overview of some of the Collections' content (mainly namedTuple, defaultDict and deque) without going into all methods available for each."
   ]
  },
  {
   "cell_type": "markdown",
   "metadata": {},
   "source": [
    "## Namedtuple"
   ]
  },
  {
   "cell_type": "markdown",
   "metadata": {},
   "source": [
    "\"factory function for creating tuple subclasses with named fields\""
   ]
  },
  {
   "cell_type": "code",
   "execution_count": 1,
   "metadata": {},
   "outputs": [],
   "source": [
    "from collections import namedtuple"
   ]
  },
  {
   "cell_type": "markdown",
   "metadata": {},
   "source": [
    "###### Fishes exemple"
   ]
  },
  {
   "cell_type": "code",
   "execution_count": 2,
   "metadata": {},
   "outputs": [],
   "source": [
    "fish1 = ('Sammy', 'Guppy', 'Freshwater tank 01')\n",
    "fish2 = ('Lummy', 'Neon', 'Freshwater tank 01')\n",
    "fish3 = ('Nemo', 'Clownfish', 'Marine tank 01')\n",
    "fish4 = ('Sharky', 'Shark', 'Marine tank 01')\n",
    "fish5 = ('Fishy', 'Discus', 'Tropical tank 02')"
   ]
  },
  {
   "cell_type": "markdown",
   "metadata": {},
   "source": [
    "All the tuples have the same 'fields'. What if I want all the names? Or species? Or emplacement?"
   ]
  },
  {
   "cell_type": "code",
   "execution_count": 3,
   "metadata": {},
   "outputs": [
    {
     "name": "stdout",
     "output_type": "stream",
     "text": [
      "Fish(name='Sammy', species='Guppy', tank='Freshwater tank 01')\n"
     ]
    }
   ],
   "source": [
    "Fish = namedtuple(\"Fish\", [\"name\", \"species\", \"tank\"])\n",
    "\n",
    "fish1 = Fish('Sammy', 'Guppy', 'Freshwater tank 01')\n",
    "\n",
    "# Readable __repr__ with a name=value style\n",
    "print(fish1)"
   ]
  },
  {
   "cell_type": "code",
   "execution_count": 4,
   "metadata": {},
   "outputs": [
    {
     "name": "stdout",
     "output_type": "stream",
     "text": [
      "Guppy\n",
      "Guppy\n"
     ]
    }
   ],
   "source": [
    "# Call by name\n",
    "print(fish1.species)\n",
    "\n",
    "# Call by index (like regular tuple)\n",
    "print(fish1[1])"
   ]
  },
  {
   "cell_type": "markdown",
   "metadata": {},
   "source": [
    "Using namedtuple from the collections module makes your program more readable while maintaining the important properties of a tuple (that they’re immutable and ordered)."
   ]
  },
  {
   "cell_type": "markdown",
   "metadata": {},
   "source": [
    "###### Point exemple"
   ]
  },
  {
   "cell_type": "code",
   "execution_count": 5,
   "metadata": {},
   "outputs": [
    {
     "name": "stdout",
     "output_type": "stream",
     "text": [
      "Point(x=11, y=22)\n",
      "Point(x=22, y=11)\n"
     ]
    }
   ],
   "source": [
    "Point = namedtuple('Point', ['x', 'y'])\n",
    "\n",
    "# Assign by index\n",
    "p1 = Point(11, 22)\n",
    "\n",
    "# Assign by name\n",
    "p2 = Point(y=11, x=22)\n",
    "\n",
    "# Readable __repr__ with a name=value style\n",
    "print(p1)\n",
    "print(p2)"
   ]
  },
  {
   "cell_type": "code",
   "execution_count": 6,
   "metadata": {},
   "outputs": [
    {
     "name": "stdout",
     "output_type": "stream",
     "text": [
      "33\n",
      "33\n"
     ]
    }
   ],
   "source": [
    "# Call by name\n",
    "print(p1.x + p1.y)\n",
    "\n",
    "# Call by index\n",
    "print(p1[0] + p1[1])"
   ]
  },
  {
   "cell_type": "code",
   "execution_count": 7,
   "metadata": {},
   "outputs": [
    {
     "name": "stdout",
     "output_type": "stream",
     "text": [
      "11\n"
     ]
    }
   ],
   "source": [
    "# Unpack like a regular tuple\n",
    "x, y = p1\n",
    "print(x)"
   ]
  },
  {
   "cell_type": "markdown",
   "metadata": {},
   "source": [
    "###### Sample of Extra Methods from namedtuple"
   ]
  },
  {
   "cell_type": "markdown",
   "metadata": {},
   "source": [
    "In addition, the namedtuple factory function adds several extra methods to instances."
   ]
  },
  {
   "cell_type": "code",
   "execution_count": 8,
   "metadata": {},
   "outputs": [
    {
     "name": "stdout",
     "output_type": "stream",
     "text": [
      "{'name': 'Sammy', 'species': 'Guppy', 'tank': 'Freshwater tank 01'}\n"
     ]
    },
    {
     "data": {
      "text/plain": [
       "dict"
      ]
     },
     "execution_count": 8,
     "metadata": {},
     "output_type": "execute_result"
    }
   ],
   "source": [
    "# Get a dict from the tuple\n",
    "dictFish = fish1._asdict()\n",
    "print(dictFish)\n",
    "\n",
    "# Before python 3.1, return an ordinary dict.\n",
    "# Between 3.1 and 3.7, return an ordered dict.\n",
    "# Since 3.8, return an ordinary dict.\n",
    "\n",
    "type(dictFish)"
   ]
  },
  {
   "cell_type": "code",
   "execution_count": 9,
   "metadata": {},
   "outputs": [
    {
     "name": "stdout",
     "output_type": "stream",
     "text": [
      "Point(x=11, y=22)\n"
     ]
    }
   ],
   "source": [
    "# Get a namedtuple from a list\n",
    "t = [11, 22]\n",
    "print(Point._make(t))"
   ]
  },
  {
   "cell_type": "code",
   "execution_count": 11,
   "metadata": {},
   "outputs": [
    {
     "name": "stdout",
     "output_type": "stream",
     "text": [
      "('x', 'y')\n",
      "Detail(x=42, y=42, red=255, green=0, blue=0)\n"
     ]
    }
   ],
   "source": [
    "# Get a tuple of strings listing the field names.\n",
    "print(p1._fields)\n",
    "\n",
    "Color = namedtuple('Color', 'red green blue')\n",
    "Detail = namedtuple('Detail', p1._fields + Color._fields)\n",
    "detail1 = Detail(42, 42, 255, 0, 0)\n",
    "\n",
    "print(detail1)"
   ]
  },
  {
   "cell_type": "code",
   "execution_count": 12,
   "metadata": {},
   "outputs": [
    {
     "name": "stdout",
     "output_type": "stream",
     "text": [
      "{'sex': 'Male'}\n",
      "Detail(name='Sammy', species='Guppy', tank='Freshwater tank 01', color='Red', sex='Male')\n"
     ]
    }
   ],
   "source": [
    "# Put some default values\n",
    "Infos = namedtuple('Infos', ['color', 'sex'])\n",
    "Detail = namedtuple('Detail', fish1._fields + Infos._fields, defaults=['Male'])\n",
    "print(Detail._field_defaults)\n",
    "detail1 = Detail('Sammy', 'Guppy', 'Freshwater tank 01', 'Red')\n",
    "print(detail1)"
   ]
  },
  {
   "cell_type": "markdown",
   "metadata": {},
   "source": [
    "## Deque"
   ]
  },
  {
   "cell_type": "markdown",
   "metadata": {},
   "source": [
    "\"list-like container with fast appends and pops on either end\""
   ]
  },
  {
   "cell_type": "markdown",
   "metadata": {},
   "source": [
    "Deque = Double Ended Queue"
   ]
  },
  {
   "cell_type": "markdown",
   "metadata": {},
   "source": [
    "FIFO : First In First Out"
   ]
  },
  {
   "cell_type": "markdown",
   "metadata": {},
   "source": [
    "LIFO : Last In First Out"
   ]
  },
  {
   "cell_type": "markdown",
   "metadata": {},
   "source": [
    "Stack : Insertion and deletion happens on same end (LIFO)"
   ]
  },
  {
   "cell_type": "markdown",
   "metadata": {},
   "source": [
    "Queue : Insertion and deletion happens on different ends (FIFO)"
   ]
  },
  {
   "cell_type": "markdown",
   "metadata": {},
   "source": [
    "###### Stack example with a list"
   ]
  },
  {
   "cell_type": "code",
   "execution_count": 13,
   "metadata": {},
   "outputs": [
    {
     "name": "stdout",
     "output_type": "stream",
     "text": [
      "Initial stack\n",
      "['a', 'b', 'c']\n",
      "\n",
      "Elements poped from stack:\n",
      "c\n",
      "b\n",
      "a\n",
      "\n",
      "Stack after elements are poped:\n",
      "[]\n"
     ]
    }
   ],
   "source": [
    "stack = []\n",
    "\n",
    "# Adding element in the stack\n",
    "stack.append('a')\n",
    "stack.append('b')\n",
    "stack.append('c')\n",
    " \n",
    "print('Initial stack')\n",
    "print(stack)\n",
    " \n",
    "# Removing element from stack in LIFO order\n",
    "print('\\nElements poped from stack:')\n",
    "print(stack.pop())\n",
    "print(stack.pop())\n",
    "print(stack.pop())\n",
    " \n",
    "print('\\nStack after elements are poped:')\n",
    "print(stack)"
   ]
  },
  {
   "cell_type": "markdown",
   "metadata": {},
   "source": [
    "###### Queue exemple with a list"
   ]
  },
  {
   "cell_type": "code",
   "execution_count": 14,
   "metadata": {},
   "outputs": [
    {
     "name": "stdout",
     "output_type": "stream",
     "text": [
      "Initial queue\n",
      "['a', 'b', 'c']\n",
      "\n",
      "Elements dequeued from queue\n",
      "a\n",
      "b\n",
      "c\n",
      "\n",
      "Queue after removing elements\n",
      "[]\n"
     ]
    }
   ],
   "source": [
    "queue = [] \n",
    "  \n",
    "# Adding elements to the queue \n",
    "queue.append('a') \n",
    "queue.append('b') \n",
    "queue.append('c') \n",
    "  \n",
    "print(\"Initial queue\") \n",
    "print(queue) \n",
    "  \n",
    "# Removing elements from the queue in FIFO order\n",
    "print(\"\\nElements dequeued from queue\") \n",
    "print(queue.pop(0)) \n",
    "print(queue.pop(0)) \n",
    "print(queue.pop(0))\n",
    "  \n",
    "print(\"\\nQueue after removing elements\") \n",
    "print(queue) "
   ]
  },
  {
   "cell_type": "markdown",
   "metadata": {},
   "source": [
    "###### Using a list for Deque conclusion"
   ]
  },
  {
   "cell_type": "markdown",
   "metadata": {},
   "source": [
    "The .append and .pop mothods make a list usable as a stack or queue. But inserting and removing from the left of a list is costly because the entire list must be shifted."
   ]
  },
  {
   "cell_type": "markdown",
   "metadata": {},
   "source": [
    "The class collections.deque is a thread-safe double-ended queue designed for fast inserting and removing from both ends. It is also the way to go if you need to keep a list of 'last seen items' or something like that because a deque can be bounded ( = created with a maximum lenght), and then, when it's full, it discards items from the opposite end when you append new ones."
   ]
  },
  {
   "cell_type": "code",
   "execution_count": 16,
   "metadata": {},
   "outputs": [],
   "source": [
    "from collections import deque"
   ]
  },
  {
   "cell_type": "markdown",
   "metadata": {},
   "source": [
    "###### Stack exemple with deque"
   ]
  },
  {
   "cell_type": "code",
   "execution_count": 17,
   "metadata": {},
   "outputs": [
    {
     "name": "stdout",
     "output_type": "stream",
     "text": [
      "Initial stack:\n",
      "deque(['a', 'b', 'c'])\n",
      "\n",
      "Elements poped from stack:\n",
      "c\n",
      "b\n",
      "a\n",
      "\n",
      "Stack after elements are poped:\n",
      "deque([])\n"
     ]
    }
   ],
   "source": [
    "stack = deque()\n",
    " \n",
    "# Adding element in the stack\n",
    "stack.append('a')\n",
    "stack.append('b')\n",
    "stack.append('c')\n",
    " \n",
    "print('Initial stack:')\n",
    "print(stack)\n",
    " \n",
    "# Removing element from stack in LIFO order\n",
    "print('\\nElements poped from stack:')\n",
    "print(stack.pop())\n",
    "print(stack.pop())\n",
    "print(stack.pop())\n",
    " \n",
    "print('\\nStack after elements are poped:')\n",
    "print(stack)"
   ]
  },
  {
   "cell_type": "markdown",
   "metadata": {},
   "source": [
    "###### Queue exemple with deque"
   ]
  },
  {
   "cell_type": "code",
   "execution_count": 18,
   "metadata": {},
   "outputs": [
    {
     "name": "stdout",
     "output_type": "stream",
     "text": [
      "Initial queue\n",
      "deque(['a', 'b', 'c'])\n",
      "\n",
      "Elements dequeued from the queue\n",
      "a\n",
      "b\n",
      "c\n",
      "\n",
      "Queue after removing elements\n",
      "deque([])\n"
     ]
    }
   ],
   "source": [
    "q = deque()\n",
    "  \n",
    "# Adding elements to a queue \n",
    "q.append('a') \n",
    "q.append('b') \n",
    "q.append('c') \n",
    "  \n",
    "print(\"Initial queue\") \n",
    "print(q) \n",
    "  \n",
    "# Removing elements from a queue in FIFO order\n",
    "print(\"\\nElements dequeued from the queue\") \n",
    "print(q.popleft()) \n",
    "print(q.popleft())  \n",
    "print(q.popleft())  \n",
    "  \n",
    "print(\"\\nQueue after removing elements\") \n",
    "print(q) "
   ]
  },
  {
   "cell_type": "markdown",
   "metadata": {},
   "source": [
    "###### Some methods of a deque"
   ]
  },
  {
   "cell_type": "code",
   "execution_count": 19,
   "metadata": {},
   "outputs": [
    {
     "data": {
      "text/plain": [
       "deque([0, 1, 2, 3, 4, 5, 6, 7, 8, 9])"
      ]
     },
     "execution_count": 19,
     "metadata": {},
     "output_type": "execute_result"
    }
   ],
   "source": [
    "# Create a Deque with a max length\n",
    "dq = deque(range(10), maxlen=10)\n",
    "dq"
   ]
  },
  {
   "cell_type": "code",
   "execution_count": 20,
   "metadata": {},
   "outputs": [
    {
     "data": {
      "text/plain": [
       "deque([7, 8, 9, 0, 1, 2, 3, 4, 5, 6])"
      ]
     },
     "execution_count": 20,
     "metadata": {},
     "output_type": "execute_result"
    }
   ],
   "source": [
    "# Move to the right\n",
    "dq.rotate(3)\n",
    "dq"
   ]
  },
  {
   "cell_type": "code",
   "execution_count": 21,
   "metadata": {},
   "outputs": [
    {
     "data": {
      "text/plain": [
       "deque([1, 2, 3, 4, 5, 6, 7, 8, 9, 0])"
      ]
     },
     "execution_count": 21,
     "metadata": {},
     "output_type": "execute_result"
    }
   ],
   "source": [
    "# Move to the left\n",
    "dq.rotate(-4)\n",
    "dq"
   ]
  },
  {
   "cell_type": "code",
   "execution_count": 22,
   "metadata": {},
   "outputs": [
    {
     "data": {
      "text/plain": [
       "deque([-1, 1, 2, 3, 4, 5, 6, 7, 8, 9])"
      ]
     },
     "execution_count": 22,
     "metadata": {},
     "output_type": "execute_result"
    }
   ],
   "source": [
    "# Add left\n",
    "dq.appendleft(-1)\n",
    "dq"
   ]
  },
  {
   "cell_type": "code",
   "execution_count": 23,
   "metadata": {},
   "outputs": [
    {
     "data": {
      "text/plain": [
       "deque([3, 4, 5, 6, 7, 8, 9, 11, 22, 33])"
      ]
     },
     "execution_count": 23,
     "metadata": {},
     "output_type": "execute_result"
    }
   ],
   "source": [
    "# Adding 3 items to the right\n",
    "dq.extend([11, 22, 33])\n",
    "dq"
   ]
  },
  {
   "cell_type": "code",
   "execution_count": 24,
   "metadata": {},
   "outputs": [
    {
     "data": {
      "text/plain": [
       "deque([40, 30, 20, 10, 3, 4, 5, 6, 7, 8])"
      ]
     },
     "execution_count": 24,
     "metadata": {},
     "output_type": "execute_result"
    }
   ],
   "source": [
    "# Adding 4 items to the left (note the appending order)\n",
    "dq.extendleft([10, 20, 30, 40])\n",
    "dq"
   ]
  },
  {
   "cell_type": "markdown",
   "metadata": {},
   "source": [
    "###### Deque conclsion"
   ]
  },
  {
   "cell_type": "markdown",
   "metadata": {},
   "source": [
    "IMPORTANT : deques are optimized for appending and popping from the end, but there is a hidden cost : removing items from the middle of a deque is not as fast."
   ]
  },
  {
   "cell_type": "markdown",
   "metadata": {},
   "source": [
    "Beside deque, other Python standard library implement queue :\n",
    "- queue : with classes Queue, LifoQueue and PriorityQueue. Difference with max length : these classes don't discard items to make room as deque does.\n",
    "- multiprocessing\n",
    "- asyncio\n",
    "- heapq : not a queue class, but functions"
   ]
  },
  {
   "cell_type": "markdown",
   "metadata": {},
   "source": [
    "## Counter"
   ]
  },
  {
   "cell_type": "markdown",
   "metadata": {},
   "source": [
    "\"dict subclass for counting hashable objects\""
   ]
  },
  {
   "cell_type": "markdown",
   "metadata": {},
   "source": [
    "A mapping that holds an integer for each key. Updating an existing key adds to its count."
   ]
  },
  {
   "cell_type": "code",
   "execution_count": 25,
   "metadata": {},
   "outputs": [],
   "source": [
    "from collections import Counter"
   ]
  },
  {
   "cell_type": "markdown",
   "metadata": {},
   "source": [
    "###### A bit of magic"
   ]
  },
  {
   "cell_type": "code",
   "execution_count": 26,
   "metadata": {},
   "outputs": [
    {
     "data": {
      "text/plain": [
       "Counter({'a': 5, 'b': 2, 'r': 2, 'c': 1, 'd': 1})"
      ]
     },
     "execution_count": 26,
     "metadata": {},
     "output_type": "execute_result"
    }
   ],
   "source": [
    "magic_count = Counter('abracadabra')\n",
    "magic_count"
   ]
  },
  {
   "cell_type": "code",
   "execution_count": 27,
   "metadata": {},
   "outputs": [
    {
     "data": {
      "text/plain": [
       "Counter({'a': 10, 'b': 2, 'r': 2, 'c': 1, 'd': 1, 'z': 3})"
      ]
     },
     "execution_count": 27,
     "metadata": {},
     "output_type": "execute_result"
    }
   ],
   "source": [
    "magic_count.update('aaaaazzz')\n",
    "magic_count"
   ]
  },
  {
   "cell_type": "code",
   "execution_count": 28,
   "metadata": {},
   "outputs": [
    {
     "data": {
      "text/plain": [
       "[('a', 10), ('z', 3)]"
      ]
     },
     "execution_count": 28,
     "metadata": {},
     "output_type": "execute_result"
    }
   ],
   "source": [
    "magic_count.most_common(2)"
   ]
  },
  {
   "cell_type": "markdown",
   "metadata": {},
   "source": [
    "###### The count of Zen"
   ]
  },
  {
   "cell_type": "code",
   "execution_count": 30,
   "metadata": {},
   "outputs": [],
   "source": [
    "zen = ['Beautiful is better than ugly.',\n",
    "'Explicit is better than implicit.',\n",
    "'Simple is better than complex.',\n",
    "'Complex is better than complicated.',\n",
    "'Flat is better than nested.',\n",
    "'Sparse is better than dense.',\n",
    "'Readability counts.',\n",
    "'Special cases aren\\'t special enough to break the rules.',\n",
    "'Although practicality beats purity.',\n",
    "'Errors should never pass silently.',\n",
    "'Unless explicitly silenced.',\n",
    "'In the face of ambiguity, refuse the temptation to guess.',\n",
    "'There should be one-- and preferably only one --obvious way to do it.',\n",
    "'Although that way may not be obvious at first unless you\\'re Dutch.',\n",
    "'Now is better than never.',\n",
    "'Although never is often better than *right* now.',\n",
    "'If the implementation is hard to explain, it\\'s a bad idea.',\n",
    "'If the implementation is easy to explain, it may be a good idea.',\n",
    "'Namespaces are one honking great idea -- let\\'s do more of those!']"
   ]
  },
  {
   "cell_type": "code",
   "execution_count": 31,
   "metadata": {},
   "outputs": [
    {
     "data": {
      "text/plain": [
       "[('is', 10), ('better', 8), ('than', 8), ('to', 5), ('the', 5)]"
      ]
     },
     "execution_count": 31,
     "metadata": {},
     "output_type": "execute_result"
    }
   ],
   "source": [
    "zen_count = Counter('Zen of Python'.split())\n",
    "for sentence in zen:\n",
    "    zen_count.update(sentence.split())\n",
    "zen_count.most_common(5)"
   ]
  },
  {
   "cell_type": "markdown",
   "metadata": {},
   "source": [
    "## Defaultdict"
   ]
  },
  {
   "cell_type": "markdown",
   "metadata": {},
   "source": [
    "\"dict subclass that calls a factory function to supply missing values\""
   ]
  },
  {
   "cell_type": "code",
   "execution_count": 34,
   "metadata": {},
   "outputs": [],
   "source": [
    "from collections import defaultdict"
   ]
  },
  {
   "cell_type": "markdown",
   "metadata": {},
   "source": [
    "###### Basic exemple"
   ]
  },
  {
   "cell_type": "code",
   "execution_count": 32,
   "metadata": {},
   "outputs": [
    {
     "ename": "KeyError",
     "evalue": "'missing'",
     "output_type": "error",
     "traceback": [
      "\u001b[0;31m---------------------------------------------------------------------------\u001b[0m",
      "\u001b[0;31mKeyError\u001b[0m                                  Traceback (most recent call last)",
      "\u001b[0;32m<ipython-input-32-bd3bb03c6012>\u001b[0m in \u001b[0;36m<module>\u001b[0;34m\u001b[0m\n\u001b[1;32m      1\u001b[0m \u001b[0mmy_regular_dict\u001b[0m \u001b[0;34m=\u001b[0m \u001b[0;34m{\u001b[0m\u001b[0;34m}\u001b[0m\u001b[0;34m\u001b[0m\u001b[0;34m\u001b[0m\u001b[0m\n\u001b[1;32m      2\u001b[0m \u001b[0;34m\u001b[0m\u001b[0m\n\u001b[0;32m----> 3\u001b[0;31m \u001b[0mmy_regular_dict\u001b[0m\u001b[0;34m[\u001b[0m\u001b[0;34m\"missing\"\u001b[0m\u001b[0;34m]\u001b[0m\u001b[0;34m\u001b[0m\u001b[0;34m\u001b[0m\u001b[0m\n\u001b[0m",
      "\u001b[0;31mKeyError\u001b[0m: 'missing'"
     ]
    }
   ],
   "source": [
    "my_regular_dict = {}\n",
    "\n",
    "my_regular_dict[\"missing\"]"
   ]
  },
  {
   "cell_type": "code",
   "execution_count": 35,
   "metadata": {},
   "outputs": [
    {
     "name": "stdout",
     "output_type": "stream",
     "text": [
      "set()\n"
     ]
    }
   ],
   "source": [
    "my_defaultdict = defaultdict(set)\n",
    "\n",
    "print(my_defaultdict[\"missing\"])"
   ]
  },
  {
   "cell_type": "code",
   "execution_count": 36,
   "metadata": {},
   "outputs": [
    {
     "name": "stdout",
     "output_type": "stream",
     "text": [
      "[]\n"
     ]
    }
   ],
   "source": [
    "my_defaultdict = defaultdict(list)\n",
    "\n",
    "print(my_defaultdict[\"missing\"])"
   ]
  },
  {
   "cell_type": "markdown",
   "metadata": {},
   "source": [
    "###### Zen of Python : dict of words and their locations"
   ]
  },
  {
   "cell_type": "code",
   "execution_count": 37,
   "metadata": {},
   "outputs": [],
   "source": [
    "import re"
   ]
  },
  {
   "cell_type": "code",
   "execution_count": 38,
   "metadata": {},
   "outputs": [],
   "source": [
    "zen = ['Beautiful is better than ugly.',\n",
    "'Explicit is better than implicit.',\n",
    "'Simple is better than complex.',\n",
    "'Complex is better than complicated.',\n",
    "'Flat is better than nested.',\n",
    "'Sparse is better than dense.',\n",
    "'Readability counts.',\n",
    "'Special cases aren\\'t special enough to break the rules.',\n",
    "'Although practicality beats purity.',\n",
    "'Errors should never pass silently.',\n",
    "'Unless explicitly silenced.',\n",
    "'In the face of ambiguity, refuse the temptation to guess.',\n",
    "'There should be one-- and preferably only one --obvious way to do it.',\n",
    "'Although that way may not be obvious at first unless you\\'re Dutch.',\n",
    "'Now is better than never.',\n",
    "'Although never is often better than *right* now.',\n",
    "'If the implementation is hard to explain, it\\'s a bad idea.',\n",
    "'If the implementation is easy to explain, it may be a good idea.',\n",
    "'Namespaces are one honking great idea -- let\\'s do more of those!']"
   ]
  },
  {
   "cell_type": "code",
   "execution_count": 39,
   "metadata": {},
   "outputs": [
    {
     "ename": "KeyError",
     "evalue": "'Beautiful'",
     "output_type": "error",
     "traceback": [
      "\u001b[0;31m---------------------------------------------------------------------------\u001b[0m",
      "\u001b[0;31mKeyError\u001b[0m                                  Traceback (most recent call last)",
      "\u001b[0;32m<ipython-input-39-14b4a75d4444>\u001b[0m in \u001b[0;36m<module>\u001b[0;34m\u001b[0m\n\u001b[1;32m      9\u001b[0m         \u001b[0mlocation\u001b[0m \u001b[0;34m=\u001b[0m \u001b[0;34m(\u001b[0m\u001b[0mline_no\u001b[0m\u001b[0;34m,\u001b[0m \u001b[0mcolumn_no\u001b[0m\u001b[0;34m)\u001b[0m\u001b[0;34m\u001b[0m\u001b[0;34m\u001b[0m\u001b[0m\n\u001b[1;32m     10\u001b[0m         \u001b[0;31m# Here comes the KeyError\u001b[0m\u001b[0;34m\u001b[0m\u001b[0;34m\u001b[0m\u001b[0;34m\u001b[0m\u001b[0m\n\u001b[0;32m---> 11\u001b[0;31m         \u001b[0mindex\u001b[0m\u001b[0;34m[\u001b[0m\u001b[0mword\u001b[0m\u001b[0;34m]\u001b[0m\u001b[0;34m.\u001b[0m\u001b[0mappend\u001b[0m\u001b[0;34m(\u001b[0m\u001b[0mlocation\u001b[0m\u001b[0;34m)\u001b[0m\u001b[0;34m\u001b[0m\u001b[0;34m\u001b[0m\u001b[0m\n\u001b[0m\u001b[1;32m     12\u001b[0m \u001b[0;34m\u001b[0m\u001b[0m\n\u001b[1;32m     13\u001b[0m \u001b[0;31m# print in alphabetical order\u001b[0m\u001b[0;34m\u001b[0m\u001b[0;34m\u001b[0m\u001b[0;34m\u001b[0m\u001b[0m\n",
      "\u001b[0;31mKeyError\u001b[0m: 'Beautiful'"
     ]
    }
   ],
   "source": [
    "WORD_RE = re.compile(r'\\w+')\n",
    "\n",
    "index = {}\n",
    "\n",
    "for line_no, char in enumerate(zen):\n",
    "    for match in WORD_RE.finditer(char):\n",
    "        word = match.group()\n",
    "        column_no = match.start()\n",
    "        location = (line_no, column_no)\n",
    "        # Here comes the KeyError\n",
    "        index[word].append(location)\n",
    "            \n",
    "# print in alphabetical order\n",
    "for word in sorted(index, key=str.upper):\n",
    "    print(word, index[word])"
   ]
  },
  {
   "cell_type": "code",
   "execution_count": 40,
   "metadata": {},
   "outputs": [
    {
     "name": "stdout",
     "output_type": "stream",
     "text": [
      "a [(16, 47), (17, 52)]\n",
      "Although [(8, 0), (13, 0), (15, 0)]\n",
      "ambiguity [(11, 15)]\n",
      "and [(12, 22)]\n",
      "are [(18, 11)]\n",
      "aren [(7, 14)]\n",
      "at [(13, 37)]\n",
      "bad [(16, 49)]\n",
      "be [(12, 13), (13, 26), (17, 49)]\n",
      "beats [(8, 22)]\n",
      "Beautiful [(0, 0)]\n",
      "better [(0, 13), (1, 12), (2, 10), (3, 11), (4, 8), (5, 10), (14, 7), (15, 24)]\n",
      "break [(7, 39)]\n",
      "cases [(7, 8)]\n",
      "complex [(2, 22)]\n",
      "Complex [(3, 0)]\n",
      "complicated [(3, 23)]\n",
      "counts [(6, 12)]\n",
      "dense [(5, 22)]\n",
      "do [(12, 63), (18, 47)]\n",
      "Dutch [(13, 60)]\n",
      "easy [(17, 25)]\n",
      "enough [(7, 29)]\n",
      "Errors [(9, 0)]\n",
      "explain [(16, 33), (17, 33)]\n",
      "Explicit [(1, 0)]\n",
      "explicitly [(10, 7)]\n",
      "face [(11, 7)]\n",
      "first [(13, 40)]\n",
      "Flat [(4, 0)]\n",
      "good [(17, 54)]\n",
      "great [(18, 27)]\n",
      "guess [(11, 51)]\n",
      "hard [(16, 25)]\n",
      "honking [(18, 19)]\n",
      "idea [(16, 53), (17, 59), (18, 33)]\n",
      "If [(16, 0), (17, 0)]\n",
      "implementation [(16, 7), (17, 7)]\n",
      "implicit [(1, 24)]\n",
      "In [(11, 0)]\n",
      "is [(0, 10), (1, 9), (2, 7), (3, 8), (4, 5), (5, 7), (14, 4), (15, 15), (16, 22), (17, 22)]\n",
      "it [(12, 66), (16, 42), (17, 42)]\n",
      "let [(18, 41)]\n",
      "may [(13, 18), (17, 45)]\n",
      "more [(18, 50)]\n",
      "Namespaces [(18, 0)]\n",
      "nested [(4, 20)]\n",
      "never [(9, 14), (14, 19), (15, 9)]\n",
      "not [(13, 22)]\n",
      "Now [(14, 0)]\n",
      "now [(15, 44)]\n",
      "obvious [(12, 48), (13, 29)]\n",
      "of [(11, 12), (18, 55)]\n",
      "often [(15, 18)]\n",
      "one [(12, 16), (12, 42), (18, 15)]\n",
      "only [(12, 37)]\n",
      "pass [(9, 20)]\n",
      "practicality [(8, 9)]\n",
      "preferably [(12, 26)]\n",
      "purity [(8, 28)]\n",
      "re [(13, 57)]\n",
      "Readability [(6, 0)]\n",
      "refuse [(11, 26)]\n",
      "right [(15, 37)]\n",
      "rules [(7, 49)]\n",
      "s [(16, 45), (18, 45)]\n",
      "should [(9, 7), (12, 6)]\n",
      "silenced [(10, 18)]\n",
      "silently [(9, 25)]\n",
      "Simple [(2, 0)]\n",
      "Sparse [(5, 0)]\n",
      "Special [(7, 0)]\n",
      "special [(7, 21)]\n",
      "t [(7, 19)]\n",
      "temptation [(11, 37)]\n",
      "than [(0, 20), (1, 19), (2, 17), (3, 18), (4, 15), (5, 17), (14, 14), (15, 31)]\n",
      "that [(13, 9)]\n",
      "the [(7, 45), (11, 3), (11, 33), (16, 3), (17, 3)]\n",
      "There [(12, 0)]\n",
      "those [(18, 58)]\n",
      "to [(7, 36), (11, 48), (12, 60), (16, 30), (17, 30)]\n",
      "ugly [(0, 25)]\n",
      "Unless [(10, 0)]\n",
      "unless [(13, 46)]\n",
      "way [(12, 56), (13, 14)]\n",
      "you [(13, 53)]\n"
     ]
    }
   ],
   "source": [
    "WORD_RE = re.compile(r'\\w+')\n",
    "\n",
    "index = {}\n",
    "\n",
    "for line_no, char in enumerate(zen):\n",
    "    for match in WORD_RE.finditer(char):\n",
    "        word = match.group()\n",
    "        column_no = match.start()\n",
    "        location = (line_no, column_no)\n",
    "        # here is the fix\n",
    "        if word not in index:        # whatever the word is : first search for the key in the list\n",
    "            index[word]=[]           # may be the seconde lookup for dict[key] if word is not yet a key\n",
    "        index[word].append(location) # and second (or third) one\n",
    "            \n",
    "# print in alphabetical order\n",
    "for word in sorted(index, key=str.upper):\n",
    "    print(word, index[word])"
   ]
  },
  {
   "cell_type": "code",
   "execution_count": 41,
   "metadata": {},
   "outputs": [
    {
     "name": "stdout",
     "output_type": "stream",
     "text": [
      "a [(16, 47), (17, 52)]\n",
      "Although [(8, 0), (13, 0), (15, 0)]\n",
      "ambiguity [(11, 15)]\n",
      "and [(12, 22)]\n",
      "are [(18, 11)]\n",
      "aren [(7, 14)]\n",
      "at [(13, 37)]\n",
      "bad [(16, 49)]\n",
      "be [(12, 13), (13, 26), (17, 49)]\n",
      "beats [(8, 22)]\n",
      "Beautiful [(0, 0)]\n",
      "better [(0, 13), (1, 12), (2, 10), (3, 11), (4, 8), (5, 10), (14, 7), (15, 24)]\n",
      "break [(7, 39)]\n",
      "cases [(7, 8)]\n",
      "complex [(2, 22)]\n",
      "Complex [(3, 0)]\n",
      "complicated [(3, 23)]\n",
      "counts [(6, 12)]\n",
      "dense [(5, 22)]\n",
      "do [(12, 63), (18, 47)]\n",
      "Dutch [(13, 60)]\n",
      "easy [(17, 25)]\n",
      "enough [(7, 29)]\n",
      "Errors [(9, 0)]\n",
      "explain [(16, 33), (17, 33)]\n",
      "Explicit [(1, 0)]\n",
      "explicitly [(10, 7)]\n",
      "face [(11, 7)]\n",
      "first [(13, 40)]\n",
      "Flat [(4, 0)]\n",
      "good [(17, 54)]\n",
      "great [(18, 27)]\n",
      "guess [(11, 51)]\n",
      "hard [(16, 25)]\n",
      "honking [(18, 19)]\n",
      "idea [(16, 53), (17, 59), (18, 33)]\n",
      "If [(16, 0), (17, 0)]\n",
      "implementation [(16, 7), (17, 7)]\n",
      "implicit [(1, 24)]\n",
      "In [(11, 0)]\n",
      "is [(0, 10), (1, 9), (2, 7), (3, 8), (4, 5), (5, 7), (14, 4), (15, 15), (16, 22), (17, 22)]\n",
      "it [(12, 66), (16, 42), (17, 42)]\n",
      "let [(18, 41)]\n",
      "may [(13, 18), (17, 45)]\n",
      "more [(18, 50)]\n",
      "Namespaces [(18, 0)]\n",
      "nested [(4, 20)]\n",
      "never [(9, 14), (14, 19), (15, 9)]\n",
      "not [(13, 22)]\n",
      "Now [(14, 0)]\n",
      "now [(15, 44)]\n",
      "obvious [(12, 48), (13, 29)]\n",
      "of [(11, 12), (18, 55)]\n",
      "often [(15, 18)]\n",
      "one [(12, 16), (12, 42), (18, 15)]\n",
      "only [(12, 37)]\n",
      "pass [(9, 20)]\n",
      "practicality [(8, 9)]\n",
      "preferably [(12, 26)]\n",
      "purity [(8, 28)]\n",
      "re [(13, 57)]\n",
      "Readability [(6, 0)]\n",
      "refuse [(11, 26)]\n",
      "right [(15, 37)]\n",
      "rules [(7, 49)]\n",
      "s [(16, 45), (18, 45)]\n",
      "should [(9, 7), (12, 6)]\n",
      "silenced [(10, 18)]\n",
      "silently [(9, 25)]\n",
      "Simple [(2, 0)]\n",
      "Sparse [(5, 0)]\n",
      "Special [(7, 0)]\n",
      "special [(7, 21)]\n",
      "t [(7, 19)]\n",
      "temptation [(11, 37)]\n",
      "than [(0, 20), (1, 19), (2, 17), (3, 18), (4, 15), (5, 17), (14, 14), (15, 31)]\n",
      "that [(13, 9)]\n",
      "the [(7, 45), (11, 3), (11, 33), (16, 3), (17, 3)]\n",
      "There [(12, 0)]\n",
      "those [(18, 58)]\n",
      "to [(7, 36), (11, 48), (12, 60), (16, 30), (17, 30)]\n",
      "ugly [(0, 25)]\n",
      "Unless [(10, 0)]\n",
      "unless [(13, 46)]\n",
      "way [(12, 56), (13, 14)]\n",
      "you [(13, 53)]\n"
     ]
    }
   ],
   "source": [
    "WORD_RE = re.compile(r'\\w+')\n",
    "\n",
    "# If the key doesn't exist, create the key, and put the value as an empty list.\n",
    "index = defaultdict(list)\n",
    "\n",
    "for line_no, line in enumerate(zen):\n",
    "    for match in WORD_RE.finditer(line):\n",
    "        word = match.group()\n",
    "        column_no = match.start()\n",
    "        location = (line_no, column_no)\n",
    "        # Interesting code here :\n",
    "        index[word].append(location)      # single and only search for the dict[key]\n",
    "            \n",
    "# print in alphabetical order\n",
    "for word in sorted(index, key=str.upper):\n",
    "    print(word, index[word])"
   ]
  },
  {
   "cell_type": "markdown",
   "metadata": {},
   "source": [
    "###### Fish Inventory"
   ]
  },
  {
   "cell_type": "code",
   "execution_count": 42,
   "metadata": {},
   "outputs": [],
   "source": [
    "fish_inventory = [('Sammy', 'Guppy', 'Freshwater tank 01'), \n",
    "                  ('Lummy', 'Neon', 'Freshwater tank 01'), \n",
    "                  ('Nemo', 'Clownfish', 'Marine tank 01'), \n",
    "                  ('Sharky', 'Shark', 'Marine tank 01'), \n",
    "                  ('Fishy', 'Discus', 'Tropical tank 02')\n",
    "                 ]"
   ]
  },
  {
   "cell_type": "code",
   "execution_count": 43,
   "metadata": {},
   "outputs": [
    {
     "name": "stdout",
     "output_type": "stream",
     "text": [
      "defaultdict(<class 'list'>, {'Freshwater tank 01': ['Sammy', 'Lummy'], 'Marine tank 01': ['Nemo', 'Sharky'], 'Tropical tank 02': ['Fishy']})\n"
     ]
    }
   ],
   "source": [
    "fish_names_by_tank = defaultdict(list)\n",
    "for name, species, tank in fish_inventory:\n",
    "    fish_names_by_tank[tank].append(name)\n",
    "\n",
    "print(fish_names_by_tank)"
   ]
  },
  {
   "cell_type": "code",
   "execution_count": null,
   "metadata": {},
   "outputs": [],
   "source": []
  }
 ],
 "metadata": {
  "kernelspec": {
   "display_name": "Python 3.8.6 64-bit",
   "language": "python",
   "name": "python38664bit87d7fd7a3a8941cabf468d1dd0e87421"
  },
  "language_info": {
   "codemirror_mode": {
    "name": "ipython",
    "version": 3
   },
   "file_extension": ".py",
   "mimetype": "text/x-python",
   "name": "python",
   "nbconvert_exporter": "python",
   "pygments_lexer": "ipython3",
   "version": "3.8.6"
  }
 },
 "nbformat": 4,
 "nbformat_minor": 4
}
